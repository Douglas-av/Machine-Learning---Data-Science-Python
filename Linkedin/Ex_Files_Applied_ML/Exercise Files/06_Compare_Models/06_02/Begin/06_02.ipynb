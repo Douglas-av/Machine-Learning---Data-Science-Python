{
 "cells": [
  {
   "cell_type": "markdown",
   "source": [
    "## Build Models To Compare Features: Raw Original Features"
   ],
   "metadata": {}
  },
  {
   "cell_type": "markdown",
   "source": [
    "### Read In Data"
   ],
   "metadata": {}
  },
  {
   "cell_type": "code",
   "execution_count": 1,
   "source": [
    "# Read in data\r\n",
    "import joblib\r\n",
    "import matplotlib.pyplot as plt\r\n",
    "import numpy as np\r\n",
    "import pandas as pd\r\n",
    "import seaborn as sns\r\n",
    "from sklearn.ensemble import RandomForestClassifier\r\n",
    "from sklearn.model_selection import GridSearchCV\r\n",
    "%matplotlib inline\r\n",
    "\r\n",
    "train_features = pd.read_csv('../../../data/final_data/train_features_raw.csv')\r\n",
    "train_labels = pd.read_csv('../../../data/final_data/train_labels.csv')\r\n",
    "\r\n",
    "train_features.head()"
   ],
   "outputs": [
    {
     "output_type": "execute_result",
     "data": {
      "text/html": [
       "<div>\n",
       "<style scoped>\n",
       "    .dataframe tbody tr th:only-of-type {\n",
       "        vertical-align: middle;\n",
       "    }\n",
       "\n",
       "    .dataframe tbody tr th {\n",
       "        vertical-align: top;\n",
       "    }\n",
       "\n",
       "    .dataframe thead th {\n",
       "        text-align: right;\n",
       "    }\n",
       "</style>\n",
       "<table border=\"1\" class=\"dataframe\">\n",
       "  <thead>\n",
       "    <tr style=\"text-align: right;\">\n",
       "      <th></th>\n",
       "      <th>Pclass</th>\n",
       "      <th>Sex</th>\n",
       "      <th>Age_clean</th>\n",
       "      <th>SibSp</th>\n",
       "      <th>Parch</th>\n",
       "      <th>Fare</th>\n",
       "      <th>Cabin</th>\n",
       "      <th>Embarked</th>\n",
       "    </tr>\n",
       "  </thead>\n",
       "  <tbody>\n",
       "    <tr>\n",
       "      <th>0</th>\n",
       "      <td>2</td>\n",
       "      <td>1</td>\n",
       "      <td>62.0</td>\n",
       "      <td>0</td>\n",
       "      <td>0</td>\n",
       "      <td>10.5000</td>\n",
       "      <td>147</td>\n",
       "      <td>2</td>\n",
       "    </tr>\n",
       "    <tr>\n",
       "      <th>1</th>\n",
       "      <td>3</td>\n",
       "      <td>1</td>\n",
       "      <td>8.0</td>\n",
       "      <td>4</td>\n",
       "      <td>1</td>\n",
       "      <td>29.1250</td>\n",
       "      <td>147</td>\n",
       "      <td>1</td>\n",
       "    </tr>\n",
       "    <tr>\n",
       "      <th>2</th>\n",
       "      <td>3</td>\n",
       "      <td>1</td>\n",
       "      <td>32.0</td>\n",
       "      <td>0</td>\n",
       "      <td>0</td>\n",
       "      <td>56.4958</td>\n",
       "      <td>147</td>\n",
       "      <td>2</td>\n",
       "    </tr>\n",
       "    <tr>\n",
       "      <th>3</th>\n",
       "      <td>3</td>\n",
       "      <td>0</td>\n",
       "      <td>20.0</td>\n",
       "      <td>1</td>\n",
       "      <td>0</td>\n",
       "      <td>9.8250</td>\n",
       "      <td>147</td>\n",
       "      <td>2</td>\n",
       "    </tr>\n",
       "    <tr>\n",
       "      <th>4</th>\n",
       "      <td>2</td>\n",
       "      <td>0</td>\n",
       "      <td>28.0</td>\n",
       "      <td>0</td>\n",
       "      <td>0</td>\n",
       "      <td>13.0000</td>\n",
       "      <td>147</td>\n",
       "      <td>2</td>\n",
       "    </tr>\n",
       "  </tbody>\n",
       "</table>\n",
       "</div>"
      ],
      "text/plain": [
       "   Pclass  Sex  Age_clean  SibSp  Parch     Fare  Cabin  Embarked\n",
       "0       2    1       62.0      0      0  10.5000    147         2\n",
       "1       3    1        8.0      4      1  29.1250    147         1\n",
       "2       3    1       32.0      0      0  56.4958    147         2\n",
       "3       3    0       20.0      1      0   9.8250    147         2\n",
       "4       2    0       28.0      0      0  13.0000    147         2"
      ]
     },
     "metadata": {},
     "execution_count": 1
    }
   ],
   "metadata": {}
  },
  {
   "cell_type": "code",
   "execution_count": 2,
   "source": [
    "# Generate correlation matrix heat map\r\n",
    "matrix = np.triu(train_features.corr())\r\n",
    "sns.heatmap(train_features.corr(), annot=True, fmt='.1f', vmin=-1, vmax=1, center= 0, cmap= 'coolwarm', mask=matrix)"
   ],
   "outputs": [
    {
     "output_type": "execute_result",
     "data": {
      "text/plain": [
       "<AxesSubplot:>"
      ]
     },
     "metadata": {},
     "execution_count": 2
    },
    {
     "output_type": "display_data",
     "data": {
      "image/png": "[encoded data removed]",
      "text/plain": [
       "<Figure size 432x288 with 2 Axes>"
      ]
     },
     "metadata": {
      "needs_background": "light"
     }
    }
   ],
   "metadata": {}
  },
  {
   "cell_type": "markdown",
   "source": [
    "### GridSearchCV"
   ],
   "metadata": {}
  },
  {
   "cell_type": "code",
   "execution_count": 3,
   "source": [
    "def print_results(results):\r\n",
    "    print('BEST PARAMS: {}\\n'.format(results.best_params_))\r\n",
    "\r\n",
    "    means = results.cv_results_['mean_test_score']\r\n",
    "    stds = results.cv_results_['std_test_score']\r\n",
    "    for mean, std, params in zip(means, stds, results.cv_results_['params']):\r\n",
    "        print('{} (+/-{}) for {}'.format(round(mean, 3), round(std * 2, 3), params))"
   ],
   "outputs": [],
   "metadata": {}
  },
  {
   "cell_type": "code",
   "execution_count": 4,
   "source": [
    "# Conduct search for best params while running cross-validation (GridSearchCV)\r\n",
    "rf = RandomForestClassifier()\r\n",
    "parameters = {\r\n",
    "    'n_estimators': [2**i for i in range(3, 10)],\r\n",
    "    'max_depth': [2, 4, 8, 16, 32, None]\r\n",
    "}\r\n",
    "\r\n",
    "cv = GridSearchCV(rf, parameters, cv=5)\r\n",
    "cv.fit(train_features, train_labels.values.ravel())\r\n",
    "\r\n",
    "print_results(cv)"
   ],
   "outputs": [
    {
     "output_type": "stream",
     "name": "stdout",
     "text": [
      "BEST PARAMS: {'max_depth': 8, 'n_estimators': 32}\n",
      "\n",
      "0.749 (+/-0.178) for {'max_depth': 2, 'n_estimators': 8}\n",
      "0.789 (+/-0.111) for {'max_depth': 2, 'n_estimators': 16}\n",
      "0.794 (+/-0.112) for {'max_depth': 2, 'n_estimators': 32}\n",
      "0.802 (+/-0.107) for {'max_depth': 2, 'n_estimators': 64}\n",
      "0.798 (+/-0.114) for {'max_depth': 2, 'n_estimators': 128}\n",
      "0.792 (+/-0.104) for {'max_depth': 2, 'n_estimators': 256}\n",
      "0.788 (+/-0.102) for {'max_depth': 2, 'n_estimators': 512}\n",
      "0.805 (+/-0.089) for {'max_depth': 4, 'n_estimators': 8}\n",
      "0.811 (+/-0.091) for {'max_depth': 4, 'n_estimators': 16}\n",
      "0.82 (+/-0.117) for {'max_depth': 4, 'n_estimators': 32}\n",
      "0.82 (+/-0.104) for {'max_depth': 4, 'n_estimators': 64}\n",
      "0.826 (+/-0.095) for {'max_depth': 4, 'n_estimators': 128}\n",
      "0.82 (+/-0.105) for {'max_depth': 4, 'n_estimators': 256}\n",
      "0.822 (+/-0.117) for {'max_depth': 4, 'n_estimators': 512}\n",
      "0.828 (+/-0.06) for {'max_depth': 8, 'n_estimators': 8}\n",
      "0.837 (+/-0.078) for {'max_depth': 8, 'n_estimators': 16}\n",
      "0.848 (+/-0.054) for {'max_depth': 8, 'n_estimators': 32}\n",
      "0.843 (+/-0.055) for {'max_depth': 8, 'n_estimators': 64}\n",
      "0.833 (+/-0.055) for {'max_depth': 8, 'n_estimators': 128}\n",
      "0.843 (+/-0.057) for {'max_depth': 8, 'n_estimators': 256}\n",
      "0.837 (+/-0.044) for {'max_depth': 8, 'n_estimators': 512}\n",
      "0.792 (+/-0.033) for {'max_depth': 16, 'n_estimators': 8}\n",
      "0.82 (+/-0.076) for {'max_depth': 16, 'n_estimators': 16}\n",
      "0.82 (+/-0.068) for {'max_depth': 16, 'n_estimators': 32}\n",
      "0.83 (+/-0.054) for {'max_depth': 16, 'n_estimators': 64}\n",
      "0.824 (+/-0.065) for {'max_depth': 16, 'n_estimators': 128}\n",
      "0.817 (+/-0.055) for {'max_depth': 16, 'n_estimators': 256}\n",
      "0.818 (+/-0.055) for {'max_depth': 16, 'n_estimators': 512}\n",
      "0.811 (+/-0.054) for {'max_depth': 32, 'n_estimators': 8}\n",
      "0.828 (+/-0.04) for {'max_depth': 32, 'n_estimators': 16}\n",
      "0.815 (+/-0.054) for {'max_depth': 32, 'n_estimators': 32}\n",
      "0.824 (+/-0.056) for {'max_depth': 32, 'n_estimators': 64}\n",
      "0.824 (+/-0.054) for {'max_depth': 32, 'n_estimators': 128}\n",
      "0.818 (+/-0.044) for {'max_depth': 32, 'n_estimators': 256}\n",
      "0.818 (+/-0.047) for {'max_depth': 32, 'n_estimators': 512}\n",
      "0.807 (+/-0.038) for {'max_depth': None, 'n_estimators': 8}\n",
      "0.818 (+/-0.053) for {'max_depth': None, 'n_estimators': 16}\n",
      "0.815 (+/-0.029) for {'max_depth': None, 'n_estimators': 32}\n",
      "0.822 (+/-0.066) for {'max_depth': None, 'n_estimators': 64}\n",
      "0.822 (+/-0.058) for {'max_depth': None, 'n_estimators': 128}\n",
      "0.822 (+/-0.044) for {'max_depth': None, 'n_estimators': 256}\n",
      "0.824 (+/-0.056) for {'max_depth': None, 'n_estimators': 512}\n"
     ]
    }
   ],
   "metadata": {}
  },
  {
   "cell_type": "markdown",
   "source": [
    "### Feature Importance"
   ],
   "metadata": {}
  },
  {
   "cell_type": "code",
   "execution_count": 5,
   "source": [
    "# Generate feature importance plot\r\n",
    "feat_imp = cv.best_estimator_.feature_importances_\r\n",
    "indices = np.argsort(feat_imp)\r\n",
    "plt.yticks(range(len(indices)), [train_features.columns[i] for i in indices])\r\n",
    "plt.barh(range(len(indices)), feat_imp[indices], color='r', align='center')\r\n",
    "plt.show()"
   ],
   "outputs": [
    {
     "output_type": "display_data",
     "data": {
      "image/png": "[encoded data removed]",
      "text/plain": [
       "<Figure size 432x288 with 1 Axes>"
      ]
     },
     "metadata": {
      "needs_background": "light"
     }
    }
   ],
   "metadata": {}
  },
  {
   "cell_type": "markdown",
   "source": [
    "### Write Out Pickled Model"
   ],
   "metadata": {}
  },
  {
   "cell_type": "code",
   "execution_count": 6,
   "source": [
    "# Write out the model fit on the whole training set\r\n",
    "joblib.dump(cv.best_estimator_, '../../../models/mdl_raw_original_features.pkl')"
   ],
   "outputs": [
    {
     "output_type": "execute_result",
     "data": {
      "text/plain": [
       "['../../../models/mdl_raw_original_features.pkl']"
      ]
     },
     "metadata": {},
     "execution_count": 6
    }
   ],
   "metadata": {}
  }
 ],
 "metadata": {
  "kernelspec": {
   "name": "python3",
   "display_name": "Python 3.7.8 64-bit"
  },
  "language_info": {
   "codemirror_mode": {
    "name": "ipython",
    "version": 3
   },
   "file_extension": ".py",
   "mimetype": "text/x-python",
   "name": "python",
   "nbconvert_exporter": "python",
   "pygments_lexer": "ipython3",
   "version": "3.7.8"
  },
  "interpreter": {
   "hash": "57baa5815c940fdaff4d14510622de9616cae602444507ba5d0b6727c008cbd6"
  }
 },
 "nbformat": 4,
 "nbformat_minor": 2
}